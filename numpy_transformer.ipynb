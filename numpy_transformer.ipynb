{
  "nbformat": 4,
  "nbformat_minor": 0,
  "metadata": {
    "colab": {
      "provenance": [],
      "include_colab_link": true
    },
    "kernelspec": {
      "name": "python3",
      "display_name": "Python 3"
    },
    "language_info": {
      "name": "python"
    }
  },
  "cells": [
    {
      "cell_type": "markdown",
      "metadata": {
        "id": "view-in-github",
        "colab_type": "text"
      },
      "source": [
        "<a href=\"https://colab.research.google.com/github/rnr415/scratch_transformer/blob/main/numpy_transformer.ipynb\" target=\"_parent\"><img src=\"https://colab.research.google.com/assets/colab-badge.svg\" alt=\"Open In Colab\"/></a>"
      ]
    },
    {
      "cell_type": "markdown",
      "source": [
        "# Transformer Code from Numpy\n",
        "\n",
        "Write a Transformer code using only Numpy"
      ],
      "metadata": {
        "id": "hP67rxjPQJMn"
      }
    },
    {
      "cell_type": "code",
      "source": [],
      "metadata": {
        "id": "t7-aiTH-QI2W"
      },
      "execution_count": null,
      "outputs": []
    },
    {
      "cell_type": "code",
      "execution_count": null,
      "metadata": {
        "id": "_Ufmp1ibPtQT"
      },
      "outputs": [],
      "source": []
    }
  ]
}