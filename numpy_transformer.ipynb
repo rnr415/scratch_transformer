{
  "nbformat": 4,
  "nbformat_minor": 0,
  "metadata": {
    "colab": {
      "provenance": []
    },
    "kernelspec": {
      "name": "python3",
      "display_name": "Python 3"
    },
    "language_info": {
      "name": "python"
    }
  },
  "cells": [
    {
      "cell_type": "markdown",
      "source": [
        "# Transformer Code from Numpy\n",
        "\n",
        "Write a Transformer code using only Numpy"
      ],
      "metadata": {
        "id": "hP67rxjPQJMn"
      }
    },
    {
      "cell_type": "markdown",
      "source": [
        "The Transformer code consists of multiple blocks\n",
        "\n",
        "- Self Attention Block\n",
        "This take the embedding of the input tokens as input and generates embedding of tokens with Self Attention"
      ],
      "metadata": {
        "id": "YM6hPSHEQikx"
      }
    },
    {
      "cell_type": "markdown",
      "source": [
        "\n",
        "```\n",
        "input_str = \"this is a test string\"\n",
        "input_tokens = model.tokenize(input_str)\n",
        "```\n",
        "*input_tokens* will have the list of integer that has the index\n",
        "\n",
        "For example\n",
        "```\n",
        "input_tokens = [342, 4230, 3249, 4509, 149, 4, 0]\n",
        "```\n",
        "\n",
        "The *input_tokens* will be replaced by list of embeddings where we replace each integer with the corresponding vector for that token\n",
        "Now we have:\n",
        "\n",
        "```\n",
        "input_embeddings = [emb_vec_1, emb_vec_2,..... ]\n",
        "input_emb_matrix = input_embeddings.reshape()\n",
        "```\n",
        "\n",
        "The input to the Transformer block is the embeddings.\n",
        "\n",
        "$$attn = softmax \\Big(\\frac{K ⋅ Q^T}{\\sqrt{d}} \\Big)$$\n",
        "$$\\big( \\Big( $$\n",
        "\n",
        "\n"
      ],
      "metadata": {
        "id": "OkpuIJAZ1FxF"
      }
    },
    {
      "cell_type": "markdown",
      "source": [],
      "metadata": {
        "id": "hJNq-5v81Fm6"
      }
    },
    {
      "cell_type": "code",
      "source": [],
      "metadata": {
        "id": "t7-aiTH-QI2W"
      },
      "execution_count": null,
      "outputs": []
    },
    {
      "cell_type": "markdown",
      "source": [],
      "metadata": {
        "id": "FCoj0SBeQaBc"
      }
    },
    {
      "cell_type": "code",
      "execution_count": null,
      "metadata": {
        "id": "_Ufmp1ibPtQT"
      },
      "outputs": [],
      "source": []
    }
  ]
}