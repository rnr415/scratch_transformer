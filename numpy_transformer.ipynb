{
  "nbformat": 4,
  "nbformat_minor": 0,
  "metadata": {
    "colab": {
      "provenance": []
    },
    "kernelspec": {
      "name": "python3",
      "display_name": "Python 3"
    },
    "language_info": {
      "name": "python"
    }
  },
  "cells": [
    {
      "cell_type": "markdown",
      "source": [
        "# Transformer Code from Numpy\n",
        "\n",
        "Write a Transformer code using only Numpy"
      ],
      "metadata": {
        "id": "hP67rxjPQJMn"
      }
    },
    {
      "cell_type": "markdown",
      "source": [
        "The Transformer code consists of multiple blocks\n",
        "\n",
        "- Self Attention Block\n",
        "This take the embedding of the input tokens as input and generates embedding of tokens with Self Attention"
      ],
      "metadata": {
        "id": "YM6hPSHEQikx"
      }
    },
    {
      "cell_type": "code",
      "source": [],
      "metadata": {
        "id": "t7-aiTH-QI2W"
      },
      "execution_count": null,
      "outputs": []
    },
    {
      "cell_type": "markdown",
      "source": [],
      "metadata": {
        "id": "FCoj0SBeQaBc"
      }
    },
    {
      "cell_type": "code",
      "execution_count": null,
      "metadata": {
        "id": "_Ufmp1ibPtQT"
      },
      "outputs": [],
      "source": []
    }
  ]
}